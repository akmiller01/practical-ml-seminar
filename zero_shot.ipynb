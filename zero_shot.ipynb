{
 "cells": [
  {
   "cell_type": "markdown",
   "metadata": {},
   "source": [
    "This is an example of a zero-shot classifier"
   ]
  },
  {
   "cell_type": "code",
   "execution_count": 1,
   "metadata": {},
   "outputs": [
    {
     "name": "stderr",
     "output_type": "stream",
     "text": [
      "/home/alex/git/practical-ml-seminar/venv/lib/python3.8/site-packages/tqdm/auto.py:21: TqdmWarning: IProgress not found. Please update jupyter and ipywidgets. See https://ipywidgets.readthedocs.io/en/stable/user_install.html\n",
      "  from .autonotebook import tqdm as notebook_tqdm\n"
     ]
    }
   ],
   "source": [
    "from transformers import pipeline\n",
    "from datasets import Dataset\n",
    "import pandas as pd"
   ]
  },
  {
   "cell_type": "markdown",
   "metadata": {},
   "source": [
    "Load dataset, define classes, and take validation subset"
   ]
  },
  {
   "cell_type": "code",
   "execution_count": 2,
   "metadata": {},
   "outputs": [
    {
     "name": "stderr",
     "output_type": "stream",
     "text": [
      "Casting to class labels: 100%|██████████| 3878/3878 [00:00<00:00, 231600.16 examples/s]\n"
     ]
    }
   ],
   "source": [
    "df = pd.read_csv('data/GB-GOV-1.csv')\n",
    "classes_verbalized = df.label.unique()\n",
    "id2label = {i: label for i, label in enumerate(classes_verbalized)}\n",
    "label2id = {id2label[i]: i for i in id2label.keys()}\n",
    "dataset = Dataset.from_pandas(df).class_encode_column(\"label\").train_test_split(\n",
    "    test_size=0.3,\n",
    "    stratify_by_column=\"label\",\n",
    "    shuffle=True,\n",
    ")"
   ]
  },
  {
   "cell_type": "markdown",
   "metadata": {},
   "source": [
    "Load model as zero-shot pipeline"
   ]
  },
  {
   "cell_type": "code",
   "execution_count": 3,
   "metadata": {},
   "outputs": [],
   "source": [
    "zeroshot_classifier = pipeline(\"zero-shot-classification\", model=\"MoritzLaurer/deberta-v3-large-zeroshot-v1.1-all-33\")\n",
    "hypothesis_template = \"This example is {}\""
   ]
  },
  {
   "cell_type": "markdown",
   "metadata": {},
   "source": [
    "Iterate through validation set and score"
   ]
  },
  {
   "cell_type": "code",
   "execution_count": 4,
   "metadata": {},
   "outputs": [
    {
     "name": "stdout",
     "output_type": "stream",
     "text": [
      "0.PROCOFSERVICES and P0110 for Research inspired Water Policy\n",
      "Answer: Not related to climate\n",
      "Guess: Not related to climate\n",
      "\n",
      "\n",
      "10.Part Time Secondment of Climate Finance Adviser into Agence Francaise de Developpment Office Jakarta\n",
      "Answer: Related to climate\n",
      "Guess: Related to climate\n",
      "\n",
      "\n",
      "20.NOTFORPROFITORG and P0209 for ICG Programmatic Funding\n",
      "Answer: Not related to climate\n",
      "Guess: Not related to climate\n",
      "\n",
      "\n",
      "30.Funding for Treatment Chemicals through UNICEF\n",
      "Answer: Not related to climate\n",
      "Guess: Not related to climate\n",
      "\n",
      "\n",
      "40.Global Environment Facility 7th replenishment - Environment\n",
      "Answer: Not related to climate\n",
      "Guess: Related to climate\n",
      "\n",
      "\n",
      "50.Climate Change and Environmental Governance Coordination\n",
      "Answer: Related to climate\n",
      "Guess: Related to climate\n",
      "\n",
      "\n",
      "60.CSSF State Formation Strand\n",
      "Answer: Not related to climate\n",
      "Guess: Not related to climate\n",
      "\n",
      "\n",
      "70.Frontline Diplomatic Enabling Activity in Haiti\n",
      "Answer: Not related to climate\n",
      "Guess: Not related to climate\n",
      "\n",
      "\n",
      "80.World Bank Impact Evaluation Support Facility\n",
      "Answer: Not related to climate\n",
      "Guess: Not related to climate\n",
      "\n",
      "\n",
      "90.Caribbean Climate Change, Tourism and Livelihoods\n",
      "Answer: Related to climate\n",
      "Guess: Related to climate\n",
      "\n",
      "\n",
      "100.Agric Model Inter Comparison and Improvement Project - Agric Team Funding\n",
      "Answer: Related to climate\n",
      "Guess: Not related to climate\n",
      "\n",
      "\n"
     ]
    }
   ],
   "source": [
    "correct = 0\n",
    "total = 0\n",
    "for i, text in enumerate(dataset['test']['text']):\n",
    "    total += 1\n",
    "    output = zeroshot_classifier(text, classes_verbalized, hypothesis_template=hypothesis_template, multi_label=False)\n",
    "    guess = output['labels'][0]\n",
    "    correct_answer = id2label[dataset['test']['label'][i]]\n",
    "    if guess == correct_answer:\n",
    "        correct += 1\n",
    "    if i % 10 == 0:\n",
    "        print(\"{}.{}\\nAnswer: {}\\nGuess: {}\\n\\n\".format(i, text, correct_answer, guess))\n",
    "    if i == 100:\n",
    "        break"
   ]
  },
  {
   "cell_type": "markdown",
   "metadata": {},
   "source": [
    "Print accuracy"
   ]
  },
  {
   "cell_type": "code",
   "execution_count": 5,
   "metadata": {},
   "outputs": [
    {
     "name": "stdout",
     "output_type": "stream",
     "text": [
      "75.25%\n"
     ]
    }
   ],
   "source": [
    "accuracy = correct / total\n",
    "print(\n",
    "    \"{}%\".format(\n",
    "        round(accuracy * 100, 2)\n",
    "    )\n",
    ")"
   ]
  }
 ],
 "metadata": {
  "kernelspec": {
   "display_name": "venv",
   "language": "python",
   "name": "python3"
  },
  "language_info": {
   "codemirror_mode": {
    "name": "ipython",
    "version": 3
   },
   "file_extension": ".py",
   "mimetype": "text/x-python",
   "name": "python",
   "nbconvert_exporter": "python",
   "pygments_lexer": "ipython3",
   "version": "3.8.10"
  }
 },
 "nbformat": 4,
 "nbformat_minor": 2
}
