{
 "cells": [
  {
   "cell_type": "markdown",
   "metadata": {},
   "source": [
    "Once you have trained a model and saved the output at \"models/climate-classifier\" you can use this code to run inference"
   ]
  },
  {
   "cell_type": "code",
   "execution_count": 10,
   "metadata": {},
   "outputs": [],
   "source": [
    "import os\n",
    "from transformers import AutoTokenizer, AutoModelForSequenceClassification\n",
    "import torch\n",
    "from scipy.special import softmax"
   ]
  },
  {
   "cell_type": "code",
   "execution_count": 14,
   "metadata": {},
   "outputs": [],
   "source": [
    "model_dir = \"models/climate-classifier\"\n",
    "\n",
    "# Get a list of all folders in model_dir that start with \"checkpoint\"\n",
    "checkpoint_folders = [folder for folder in os.listdir(model_dir) if folder.startswith(\"checkpoint\")]\n",
    "\n",
    "# Sort the checkpoint folders by modification time in descending order\n",
    "checkpoint_folders.sort(key=lambda folder: os.path.getmtime(os.path.join(model_dir, folder)), reverse=True)\n",
    "\n",
    "# Get the most recent checkpoint folder\n",
    "if checkpoint_folders:\n",
    "    most_recent_checkpoint = os.path.join(model_dir, checkpoint_folders[0])\n",
    "else:\n",
    "    print(\"No checkpoint folders found in\", model_dir)\n",
    "\n",
    "tokenizer = AutoTokenizer.from_pretrained(most_recent_checkpoint)\n",
    "model = AutoModelForSequenceClassification.from_pretrained(most_recent_checkpoint)\n",
    "\n",
    "def inference(tokenizer, model, text):\n",
    "    inputs = tokenizer(text, return_tensors=\"pt\")\n",
    "\n",
    "    with torch.no_grad():\n",
    "        logits = model(**inputs).logits\n",
    "\n",
    "    predicted_class_id = logits.argmax().item()\n",
    "    class_name = model.config.id2label[predicted_class_id]\n",
    "    predicted_confidences = softmax(logits[0], axis=0)\n",
    "    class_confidence = predicted_confidences[predicted_class_id]\n",
    "    print(\"Output: {}; Confidence: {}%\".format(\n",
    "        class_name,\n",
    "        round(class_confidence * 100, 2)\n",
    "      )\n",
    "    )"
   ]
  },
  {
   "cell_type": "code",
   "execution_count": 15,
   "metadata": {},
   "outputs": [
    {
     "name": "stdout",
     "output_type": "stream",
     "text": [
      "Output: Related to climate; Confidence: 98.42%\n"
     ]
    }
   ],
   "source": [
    "text = \"Fiduciary Risk Assessment of the Adaptation Fund\"\n",
    "inference(tokenizer, model, text)"
   ]
  }
 ],
 "metadata": {
  "kernelspec": {
   "display_name": "venv",
   "language": "python",
   "name": "python3"
  },
  "language_info": {
   "codemirror_mode": {
    "name": "ipython",
    "version": 3
   },
   "file_extension": ".py",
   "mimetype": "text/x-python",
   "name": "python",
   "nbconvert_exporter": "python",
   "pygments_lexer": "ipython3",
   "version": "3.8.10"
  }
 },
 "nbformat": 4,
 "nbformat_minor": 2
}
